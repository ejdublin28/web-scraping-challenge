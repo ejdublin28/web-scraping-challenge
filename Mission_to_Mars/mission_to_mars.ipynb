{
 "cells": [
  {
   "cell_type": "code",
   "execution_count": 2,
   "metadata": {},
   "outputs": [],
   "source": [
    "#Dependencies\n",
    "from splinter import Browser\n",
    "from bs4 import BeautifulSoup as bs\n",
    "import time\n",
    "from webdriver_manager.chrome import ChromeDriverManager"
   ]
  },
  {
   "cell_type": "markdown",
   "metadata": {},
   "source": [
    "Top Mars News"
   ]
  },
  {
   "cell_type": "code",
   "execution_count": 3,
   "metadata": {},
   "outputs": [],
   "source": [
    "#Creating Dictionary Value Outside of Definition\n",
    "nasa_mars_news = {}\n",
    "\n",
    "def scrape_info():\n",
    "    #Setting up Splinter\n",
    "    executable_path = {'executable_path': ChromeDriverManager().install()}\n",
    "    browser = Browser('chrome', **executable_path, headless=False)\n",
    "\n",
    "    #Giving Website URLs\n",
    "    url = \"https://redplanetscience.com/\"\n",
    "    browser.visit(url)\n",
    "\n",
    "    time.sleep(1)\n",
    "\n",
    "    #Scraping using Beautiful Soup\n",
    "    html = browser.html\n",
    "    soup = bs(html, \"html.parser\")\n",
    "\n",
    "    # test = soup.find_all('content_title').text\n",
    "    # test = {}\n",
    "    nasa_mars_news['title'] = soup.find(class_=\"content_title\").text\n",
    "    nasa_mars_news['text'] = soup.find(class_=\"article_teaser_body\").text\n",
    "    # test['b'] = soup.find(\"p\",class_=\"content_title\").get_text()\n",
    "\n",
    "    browser.quit()\n",
    "\n",
    "    return nasa_mars_news\n",
    "\n"
   ]
  },
  {
   "cell_type": "code",
   "execution_count": 4,
   "metadata": {},
   "outputs": [
    {
     "name": "stderr",
     "output_type": "stream",
     "text": [
      "\n",
      "\n",
      "====== WebDriver manager ======\n",
      "Current google-chrome version is 102.0.5005\n",
      "Get LATEST chromedriver version for 102.0.5005 google-chrome\n",
      "Driver [/Users/emmadublin/.wdm/drivers/chromedriver/mac64/102.0.5005.61/chromedriver] found in cache\n"
     ]
    },
    {
     "data": {
      "text/plain": [
       "{'title': 'Independent Review Indicates NASA Prepared for Mars Sample Return Campaign',\n",
       " 'text': 'NASA released an independent review report Tuesday indicating the agency is well positioned for its Mars Sample Return campaign to bring pristine samples from Mars to Earth for scientific study.'}"
      ]
     },
     "execution_count": 4,
     "metadata": {},
     "output_type": "execute_result"
    }
   ],
   "source": [
    "scrape_info()"
   ]
  },
  {
   "cell_type": "code",
   "execution_count": 4,
   "metadata": {},
   "outputs": [
    {
     "data": {
      "text/plain": [
       "\"NASA's Curiosity Keeps Rolling As Team Operates Rover From Home\""
      ]
     },
     "execution_count": 4,
     "metadata": {},
     "output_type": "execute_result"
    }
   ],
   "source": [
    "nasa_mars_news['title']"
   ]
  },
  {
   "cell_type": "markdown",
   "metadata": {},
   "source": [
    "JPL Mars Space Images"
   ]
  },
  {
   "cell_type": "code",
   "execution_count": 5,
   "metadata": {},
   "outputs": [],
   "source": [
    "#Creating Dictionary Value Outside of Definition\n",
    "mars_images = {}\n",
    "relative_image_path = []\n",
    "def scrape_images():\n",
    "    #Setting up Splinter\n",
    "    executable_path = {'executable_path': ChromeDriverManager().install()}\n",
    "    browser = Browser('chrome', **executable_path, headless=False)\n",
    "\n",
    "    #Giving Website URL\n",
    "    # Example:\n",
    "    image_url = 'https://spaceimages-mars.com/'\n",
    "    browser.visit(image_url)\n",
    "\n",
    "    time.sleep(1)\n",
    "\n",
    "    #Scraping using Beautiful Soup\n",
    "    html = browser.html\n",
    "    soup = bs(html, \"html.parser\")\n",
    "\n",
    "    #Getting image filepath for headerimage\n",
    "    relative_image_path = soup.find('img',class_='headerimage fade-in')[\"src\"]\n",
    "    mars_images.update({'image': image_url + relative_image_path})\n",
    "\n",
    "    browser.quit()\n",
    "\n",
    "    return mars_images\n"
   ]
  },
  {
   "cell_type": "code",
   "execution_count": 6,
   "metadata": {},
   "outputs": [
    {
     "name": "stderr",
     "output_type": "stream",
     "text": [
      "\n",
      "\n",
      "====== WebDriver manager ======\n",
      "Current google-chrome version is 102.0.5005\n",
      "Get LATEST chromedriver version for 102.0.5005 google-chrome\n",
      "Driver [/Users/emmadublin/.wdm/drivers/chromedriver/mac64/102.0.5005.61/chromedriver] found in cache\n"
     ]
    },
    {
     "data": {
      "text/plain": [
       "{'image': 'https://spaceimages-mars.com/image/featured/mars3.jpg'}"
      ]
     },
     "execution_count": 6,
     "metadata": {},
     "output_type": "execute_result"
    }
   ],
   "source": [
    "scrape_images()"
   ]
  },
  {
   "cell_type": "code",
   "execution_count": 7,
   "metadata": {},
   "outputs": [
    {
     "data": {
      "text/plain": [
       "[]"
      ]
     },
     "execution_count": 7,
     "metadata": {},
     "output_type": "execute_result"
    }
   ],
   "source": [
    "relative_image_path"
   ]
  },
  {
   "cell_type": "markdown",
   "metadata": {},
   "source": [
    "Mars Facts"
   ]
  },
  {
   "cell_type": "code",
   "execution_count": 8,
   "metadata": {},
   "outputs": [],
   "source": [
    "#Creating Dictionary Value Outside of Definition\n",
    "mars_facts = {}\n",
    "tbl_headers = []\n",
    "tbl_details = []\n",
    "\n",
    "def scrape_facts():\n",
    "    #Setting up Splinter\n",
    "    executable_path = {'executable_path': ChromeDriverManager().install()}\n",
    "    browser = Browser('chrome', **executable_path, headless=False)\n",
    "\n",
    "    #Giving Website URL\n",
    "    facts_url = \"https://galaxyfacts-mars.com/\"\n",
    "    browser.visit(facts_url)\n",
    "\n",
    "    time.sleep(1)\n",
    "\n",
    "    #Scraping using Beautiful Soup\n",
    "    html = browser.html\n",
    "    soup = bs(html, \"html.parser\")\n",
    "\n",
    "    facts_tbl = soup.find('table',class_=\"table table-striped\")\n",
    "    facts_tbl\n",
    "\n",
    "    for i in facts_tbl.find_all('th'):\n",
    "        row_label = i.text\n",
    "        tbl_headers.append(row_label)\n",
    "    \n",
    "    for i in facts_tbl.find_all('td'):\n",
    "        row_details = i.text\n",
    "        tbl_details.append(row_details)\n",
    "\n",
    "    for i in range(0,len(tbl_headers)):\n",
    "        mars_facts.update({tbl_headers[i]:tbl_details[i]})\n",
    "    #nasa_mars_news['text'] = soup.find(class_=\"article_teaser_body\").text\n",
    "    # test['b'] = soup.find(\"p\",class_=\"content_title\").get_text()\n",
    "    \n",
    "    browser.quit()\n",
    "\n",
    "    return mars_facts\n",
    "\n"
   ]
  },
  {
   "cell_type": "code",
   "execution_count": 9,
   "metadata": {},
   "outputs": [
    {
     "name": "stderr",
     "output_type": "stream",
     "text": [
      "\n",
      "\n",
      "====== WebDriver manager ======\n",
      "Current google-chrome version is 102.0.5005\n",
      "Get LATEST chromedriver version for 102.0.5005 google-chrome\n",
      "Driver [/Users/emmadublin/.wdm/drivers/chromedriver/mac64/102.0.5005.61/chromedriver] found in cache\n"
     ]
    },
    {
     "data": {
      "text/plain": [
       "{'Equatorial Diameter:': '6,792 km',\n",
       " 'Polar Diameter:': '6,752 km',\n",
       " 'Mass:': '\\t6.39 × 10^23 kg (0.11 Earths)',\n",
       " 'Moons:': '\\t2 ( Phobos  &  Deimos )',\n",
       " 'Orbit Distance:': '\\t227,943,824 km (1.38 AU)',\n",
       " 'Orbit Period:': '\\t687 days (1.9 years)',\n",
       " 'Surface Temperature:': '\\t-87 to -5 °C',\n",
       " 'First Record:': '\\t2nd millennium BC',\n",
       " 'Recorded By:': '\\tEgyptian astronomers'}"
      ]
     },
     "execution_count": 9,
     "metadata": {},
     "output_type": "execute_result"
    }
   ],
   "source": [
    "scrape_facts()"
   ]
  },
  {
   "cell_type": "markdown",
   "metadata": {},
   "source": [
    "Hemisphere Images"
   ]
  },
  {
   "cell_type": "code",
   "execution_count": 12,
   "metadata": {},
   "outputs": [],
   "source": [
    "#Creating Dictionary With Titles and Images\n",
    "\n",
    "hem_urls = [\n",
    "    {\"title1\": \"Valles Marineris Hemisphere\", \"img_url1\": \"https://marshemispheres.com/images/valles_marineris_enhanced-full.jpg\"},\n",
    "    {\"title2\": \"Cerberus Hemisphere\", \"img_url2\": \"https://marshemispheres.com/images/full.jpg\"},\n",
    "    {\"title3\": \"Schiaparelli Hemisphere\", \"img_url3\": \"https://marshemispheres.com/images/schiaparelli_enhanced-full.jpg\"},\n",
    "    {\"title4\": \"Syrtis Major Hemisphere\", \"img_url4\": \"https://marshemispheres.com/images/syrtis_major_enhanced-full.jpg\"},\n",
    "]\n"
   ]
  }
 ],
 "metadata": {
  "interpreter": {
   "hash": "1ff29da6d56e1c063d5d65bbfd0bdf0f5c17b869f17a64c1031ee9cdb99b13fe"
  },
  "kernelspec": {
   "display_name": "Python 3.7.11 ('base')",
   "language": "python",
   "name": "python3"
  },
  "language_info": {
   "codemirror_mode": {
    "name": "ipython",
    "version": 3
   },
   "file_extension": ".py",
   "mimetype": "text/x-python",
   "name": "python",
   "nbconvert_exporter": "python",
   "pygments_lexer": "ipython3",
   "version": "3.7.11"
  },
  "orig_nbformat": 4
 },
 "nbformat": 4,
 "nbformat_minor": 2
}
